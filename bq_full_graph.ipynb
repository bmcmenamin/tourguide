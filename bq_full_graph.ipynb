{
 "cells": [
  {
   "cell_type": "code",
   "execution_count": 1,
   "id": "87a3a4f4-5834-4079-b776-98c309c308d6",
   "metadata": {},
   "outputs": [],
   "source": [
    "%load_ext autoreload\n",
    "%autoreload 2"
   ]
  },
  {
   "cell_type": "code",
   "execution_count": 2,
   "id": "42b152db-9123-40aa-a88d-a961023e6cd4",
   "metadata": {},
   "outputs": [],
   "source": [
    "import pandas as pd\n",
    "import networkx as nx\n",
    "import matplotlib\n",
    "\n",
    "from flaskapp.bigquery_interface import (\n",
    "    BigQueryInterface\n",
    ")\n"
   ]
  },
  {
   "cell_type": "code",
   "execution_count": null,
   "id": "86393ee5-9f40-451d-a14a-ea5e565da134",
   "metadata": {},
   "outputs": [],
   "source": []
  },
  {
   "cell_type": "code",
   "execution_count": 4,
   "id": "12989337-3171-4aa4-9302-38c3ba0e00a5",
   "metadata": {},
   "outputs": [],
   "source": [
    "PROJECT_ID = \"tourguide-388723\""
   ]
  },
  {
   "cell_type": "code",
   "execution_count": 8,
   "id": "a59bbcb7-01e9-45f1-9a9c-483c679c0170",
   "metadata": {},
   "outputs": [
    {
     "name": "stderr",
     "output_type": "stream",
     "text": [
      "\n",
      "KeyboardInterrupt\n",
      "\n"
     ]
    }
   ],
   "source": [
    "with BigQueryInterface(project_id=PROJECT_ID) as bq:\n",
    "    df_edges = bq.query(\"\"\"\n",
    "    SELECT\n",
    "        page_id AS from_node\n",
    "        , to_node\n",
    "        , num_out_links AS weight\n",
    "    FROM\n",
    "        `pages.links`\n",
    "        , UNNEST(out_links) AS to_node\n",
    "    \"\"\")"
   ]
  },
  {
   "cell_type": "code",
   "execution_count": null,
   "id": "cfe31703-9798-4cf1-8c3f-b68620197e73",
   "metadata": {},
   "outputs": [],
   "source": [
    "graph = nx.DiGraph()\n",
    "graph.add_weighted_edges_from(df_edges.values)"
   ]
  },
  {
   "cell_type": "code",
   "execution_count": null,
   "id": "5e706856-cf55-4751-9675-a433bbfab24e",
   "metadata": {},
   "outputs": [],
   "source": []
  },
  {
   "cell_type": "code",
   "execution_count": null,
   "id": "55dd9fe7-011d-4d81-bfab-ba4ec81a6046",
   "metadata": {},
   "outputs": [],
   "source": []
  }
 ],
 "metadata": {
  "kernelspec": {
   "display_name": "Python 3 (ipykernel)",
   "language": "python",
   "name": "python3"
  },
  "language_info": {
   "codemirror_mode": {
    "name": "ipython",
    "version": 3
   },
   "file_extension": ".py",
   "mimetype": "text/x-python",
   "name": "python",
   "nbconvert_exporter": "python",
   "pygments_lexer": "ipython3",
   "version": "3.11.3"
  }
 },
 "nbformat": 4,
 "nbformat_minor": 5
}
