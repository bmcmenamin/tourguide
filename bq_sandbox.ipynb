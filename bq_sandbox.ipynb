{
 "cells": [
  {
   "cell_type": "code",
   "execution_count": 4,
   "id": "fdeb6584-5b38-43e9-b940-decafe679cf6",
   "metadata": {},
   "outputs": [
    {
     "name": "stdout",
     "output_type": "stream",
     "text": [
      "The autoreload extension is already loaded. To reload it, use:\n",
      "  %reload_ext autoreload\n"
     ]
    }
   ],
   "source": [
    "%load_ext autoreload\n",
    "%autoreload 2"
   ]
  },
  {
   "cell_type": "code",
   "execution_count": 30,
   "id": "a3eb5bff-0d8d-4255-b6e0-543a1baf4964",
   "metadata": {},
   "outputs": [],
   "source": [
    "from typing import List, Tuple\n",
    "from itertools import product\n",
    "from functools import lru_cache\n",
    "\n",
    "\n",
    "from flaskapp.bigquery_interface import (\n",
    "    BigQueryInterface,\n",
    "    query_nodes,\n",
    "    query_edges,\n",
    "    query_nearby,\n",
    "    query_nearby_extended, \n",
    "    query_neighbors\n",
    ")\n",
    "\n",
    "from flaskapp.wikidata_interfaces import PageidFinder\n",
    "\n",
    "import pandas as pd\n",
    "import networkx as nx"
   ]
  },
  {
   "cell_type": "code",
   "execution_count": 90,
   "id": "e27374b0-489a-435d-b413-be34606dad37",
   "metadata": {},
   "outputs": [],
   "source": [
    "PROJECT_ID = \"tourguide-388723\"\n",
    "NUM_NEARBY_TO_KEEP = 25\n",
    "\n",
    "@lru_cache()\n",
    "def find_nearby_pageids(lon: float, lat: float, num_to_keep: int = NUM_NEARBY_TO_KEEP) -> Tuple[int, ...]:\n",
    "\n",
    "    with BigQueryInterface(project_id=PROJECT_ID) as bq:\n",
    "        df_nearby = query_nearby(bq, lat=latlon[0], lon=latlon[1], num_to_keep=num_to_keep)\n",
    "        df_nearby_extended = query_nearby_extended(bq, df_nearby[\"page_id\"].to_list())\n",
    "        all_nodes = list(set(\n",
    "            df_nearby[\"page_id\"].tolist() +\n",
    "            df_nearby_extended[\"page_id\"].tolist()\n",
    "        ))\n",
    "        df_geo_nodes = query_nodes(bq, all_nodes)\n",
    "\n",
    "    return tuple(df_geo_nodes[\"page_id\"].tolist())\n",
    "\n",
    "@lru_cache()\n",
    "def get_topic_pageids(topics: Tuple[str]) -> Tuple[int, ...]:\n",
    "    topic_to_pageid = dict(PageidFinder().get_payload(topics))\n",
    "    return tuple(list(topic_to_pageid.values()))\n",
    "\n",
    "\n",
    "def _get_edgedir(g, id0, id1):\n",
    "    forward = id1 in g.neighbors(id0)\n",
    "    backward = id0 in g.neighbors(id1)\n",
    "\n",
    "    if forward and not backward:\n",
    "        return \"->\"\n",
    "    elif backward and not forward:\n",
    "        return \"<-\"\n",
    "    else:\n",
    "        return \"--\"\n",
    "\n",
    "\n",
    "def make_readable_path(graph, path, df_nodes):\n",
    "    names = [df_nodes.loc[df_nodes[\"page_id\"] == p, \"title\"].iloc[0] for p in path]\n",
    "    connectors = [_get_edgedir(graph, p0, p1) for p0, p1 in zip(path[:-1], path[1:])]\n",
    "    return \" \".join([f\"{n} {c}\" for n, c in zip(names[:-1], connectors)] + names[-1:]) "
   ]
  },
  {
   "cell_type": "code",
   "execution_count": 23,
   "id": "38f7acb1-65ef-40eb-942c-26039539e1b9",
   "metadata": {},
   "outputs": [],
   "source": [
    "latlon = (44.8113, -91.4985)\n",
    "#latlon = (42.460021, -74.647030)"
   ]
  },
  {
   "cell_type": "code",
   "execution_count": 24,
   "id": "2c3de332-289c-4829-9033-b11f63e4246a",
   "metadata": {},
   "outputs": [],
   "source": [
    "topics = [\n",
    "    \"List of cryptids\",\n",
    "    \"Rock music\",\n",
    "    \"American Revolution\"\n",
    "]"
   ]
  },
  {
   "cell_type": "code",
   "execution_count": 25,
   "id": "4a60862b-7c76-4ea0-bc3d-2e8b2d8c7602",
   "metadata": {},
   "outputs": [],
   "source": [
    "geo_pageids = find_nearby_pageids(lon=latlon[1], lat=latlon[0], num_to_keep=NUM_NEARBY_TO_KEEP)\n",
    "topic_pageids = get_topic_pageids(tuple(topics))"
   ]
  },
  {
   "cell_type": "code",
   "execution_count": 42,
   "id": "3a93366c-775e-47d5-8bec-b42ee42d38ad",
   "metadata": {},
   "outputs": [],
   "source": [
    "with BigQueryInterface(project_id=PROJECT_ID) as bq:\n",
    "    df_geo_neighbors = query_neighbors(bq, nodes=geo_pageids)\n",
    "    df_topic_neighbors = query_neighbors(bq, nodes=topic_pageids)\n",
    "\n",
    "    all_node_ids = tuple(set(\n",
    "        df_geo_neighbors[\"page_id\"].tolist() +\n",
    "        df_topic_neighbors[\"page_id\"].tolist() +\n",
    "        list(geo_pageids) +\n",
    "        list(topic_pageids)\n",
    "    ))\n",
    "\n",
    "    df_nodes = query_nodes(bq, nodes=all_node_ids)\n",
    "    df_edges = query_edges(bq, nodes=all_node_ids)"
   ]
  },
  {
   "cell_type": "code",
   "execution_count": 64,
   "id": "3d71b09a-f74c-4425-bfb8-6d4475314b90",
   "metadata": {},
   "outputs": [],
   "source": [
    "weightin_dict = {el[\"page_id\"]: el[\"num_in_links\"] for _, el in df_nodes.iterrows()}\n",
    "weightout_dict = {el[\"page_id\"]: el[\"num_out_links\"] for _, el in df_nodes.iterrows()}\n",
    "weighttot_dict = {el[\"page_id\"]: el[\"degree\"] for _, el in df_nodes.iterrows()}"
   ]
  },
  {
   "cell_type": "code",
   "execution_count": null,
   "id": "7fae7510-bb34-430e-afe9-af666920dfee",
   "metadata": {},
   "outputs": [],
   "source": []
  },
  {
   "cell_type": "code",
   "execution_count": 94,
   "id": "f00f4787-9177-4448-a94f-958f23a16594",
   "metadata": {},
   "outputs": [],
   "source": [
    "from math import sqrt"
   ]
  },
  {
   "cell_type": "code",
   "execution_count": 169,
   "id": "0ba2cc77-d537-4a70-8b07-b591b6c0cc8a",
   "metadata": {},
   "outputs": [],
   "source": [
    "weighted_dir_edges = [\n",
    "    (\n",
    "        r[\"from_node\"],\n",
    "        r[\"to_node\"],\n",
    "        2 / (\n",
    "            (1 / weightout_dict.get(r[\"from_node\"], 1)) +\n",
    "            (1 / weightin_dict.get(r[\"to_node\"], 1))\n",
    "        )\n",
    "    )\n",
    "    for _, r in df_edges.iterrows()\n",
    "]\n",
    "\n",
    "weighted_undir_edges = {}\n",
    "for e0, e1, w in weighted_dir_edges:\n",
    "    k = (min(e0, e1), max(e0, e1))\n",
    "    weighted_undir_edges[k] = min(w, weighted_undir_edges.get(k, w))\n",
    "\n",
    "graph = nx.DiGraph()\n",
    "graph.add_weighted_edges_from(weighted_dir_edges, weight=\"weight\")\n",
    "graph_undir = nx.Graph()\n",
    "graph_undir.add_weighted_edges_from([(e0, e1, w) for (e0, e1), w in weighted_undir_edges.items()])"
   ]
  },
  {
   "cell_type": "code",
   "execution_count": 170,
   "id": "9f1ae3ea-1e2d-4d99-9187-d608bf4f9914",
   "metadata": {},
   "outputs": [],
   "source": [
    "nonseed_nodes = set(graph.nodes) - set(geo_pageids + topic_pageids)\n",
    "paths = []\n",
    "\n",
    "for geo_id, topic_id in product(geo_pageids, topic_pageids):\n",
    "    _graph = graph_undir.subgraph(nonseed_nodes.union({geo_id, topic_id}))\n",
    "    try:\n",
    "        _paths = nx.algorithms.simple_paths.all_simple_paths(\n",
    "            _graph,\n",
    "            geo_id,\n",
    "            topic_id,\n",
    "            cutoff=2\n",
    "        )\n",
    "\n",
    "        _weighted_paths = [\n",
    "            (nx.path_weight(_graph, p, weight=\"weight\"), p)\n",
    "            for p in _paths\n",
    "        ]\n",
    "        if _weighted_paths:\n",
    "            paths += _weighted_paths\n",
    "\n",
    "    except (nx.NetworkXNoPath, nx.NodeNotFound):\n",
    "        pass"
   ]
  },
  {
   "cell_type": "code",
   "execution_count": 171,
   "id": "39b6f8fe-db1d-4660-af7e-ef5d6e4228e1",
   "metadata": {},
   "outputs": [
    {
     "data": {
      "text/html": [
       "<div>\n",
       "<style scoped>\n",
       "    .dataframe tbody tr th:only-of-type {\n",
       "        vertical-align: middle;\n",
       "    }\n",
       "\n",
       "    .dataframe tbody tr th {\n",
       "        vertical-align: top;\n",
       "    }\n",
       "\n",
       "    .dataframe thead th {\n",
       "        text-align: right;\n",
       "    }\n",
       "</style>\n",
       "<table border=\"1\" class=\"dataframe\">\n",
       "  <thead>\n",
       "    <tr style=\"text-align: right;\">\n",
       "      <th></th>\n",
       "      <th>page_id</th>\n",
       "      <th>title</th>\n",
       "      <th>has_place_category</th>\n",
       "      <th>num_in_links</th>\n",
       "      <th>num_out_links</th>\n",
       "      <th>degree</th>\n",
       "    </tr>\n",
       "  </thead>\n",
       "  <tbody>\n",
       "    <tr>\n",
       "      <th>714</th>\n",
       "      <td>1035241</td>\n",
       "      <td>Curt Boettcher</td>\n",
       "      <td>True</td>\n",
       "      <td>55</td>\n",
       "      <td>105</td>\n",
       "      <td>160</td>\n",
       "    </tr>\n",
       "    <tr>\n",
       "      <th>2116</th>\n",
       "      <td>294091</td>\n",
       "      <td>Classic rock</td>\n",
       "      <td>False</td>\n",
       "      <td>899</td>\n",
       "      <td>78</td>\n",
       "      <td>977</td>\n",
       "    </tr>\n",
       "  </tbody>\n",
       "</table>\n",
       "</div>"
      ],
      "text/plain": [
       "      page_id           title  has_place_category  num_in_links  \\\n",
       "714   1035241  Curt Boettcher                True            55   \n",
       "2116   294091    Classic rock               False           899   \n",
       "\n",
       "      num_out_links  degree  \n",
       "714             105     160  \n",
       "2116             78     977  "
      ]
     },
     "execution_count": 171,
     "metadata": {},
     "output_type": "execute_result"
    }
   ],
   "source": [
    "df_nodes.loc[df_nodes[\"title\"].isin([\"Curt Boettcher\", \"Classic rock\"]), :]"
   ]
  },
  {
   "cell_type": "code",
   "execution_count": 174,
   "id": "e0ba86d9-2955-491b-8c13-200f25f5fee4",
   "metadata": {},
   "outputs": [
    {
     "data": {
      "text/html": [
       "<div>\n",
       "<style scoped>\n",
       "    .dataframe tbody tr th:only-of-type {\n",
       "        vertical-align: middle;\n",
       "    }\n",
       "\n",
       "    .dataframe tbody tr th {\n",
       "        vertical-align: top;\n",
       "    }\n",
       "\n",
       "    .dataframe thead th {\n",
       "        text-align: right;\n",
       "    }\n",
       "</style>\n",
       "<table border=\"1\" class=\"dataframe\">\n",
       "  <thead>\n",
       "    <tr style=\"text-align: right;\">\n",
       "      <th></th>\n",
       "      <th>page_id</th>\n",
       "      <th>title</th>\n",
       "      <th>has_place_category</th>\n",
       "      <th>num_in_links</th>\n",
       "      <th>num_out_links</th>\n",
       "      <th>degree</th>\n",
       "    </tr>\n",
       "  </thead>\n",
       "  <tbody>\n",
       "    <tr>\n",
       "      <th>1174</th>\n",
       "      <td>12188132</td>\n",
       "      <td>Canon law of the Episcopal Church in the Unite...</td>\n",
       "      <td>False</td>\n",
       "      <td>3</td>\n",
       "      <td>104</td>\n",
       "      <td>107</td>\n",
       "    </tr>\n",
       "  </tbody>\n",
       "</table>\n",
       "</div>"
      ],
      "text/plain": [
       "       page_id                                              title  \\\n",
       "1174  12188132  Canon law of the Episcopal Church in the Unite...   \n",
       "\n",
       "      has_place_category  num_in_links  num_out_links  degree  \n",
       "1174               False             3            104     107  "
      ]
     },
     "execution_count": 174,
     "metadata": {},
     "output_type": "execute_result"
    }
   ],
   "source": [
    "df_nodes.loc[df_nodes[\"title\"].isin([\"Canon law of the Episcopal Church in the United States\"]), :]"
   ]
  },
  {
   "cell_type": "code",
   "execution_count": 178,
   "id": "f858d1c6-2df7-4714-8f31-8f6eb89d99c5",
   "metadata": {},
   "outputs": [
    {
     "data": {
      "text/html": [
       "<div>\n",
       "<style scoped>\n",
       "    .dataframe tbody tr th:only-of-type {\n",
       "        vertical-align: middle;\n",
       "    }\n",
       "\n",
       "    .dataframe tbody tr th {\n",
       "        vertical-align: top;\n",
       "    }\n",
       "\n",
       "    .dataframe thead th {\n",
       "        text-align: right;\n",
       "    }\n",
       "</style>\n",
       "<table border=\"1\" class=\"dataframe\">\n",
       "  <thead>\n",
       "    <tr style=\"text-align: right;\">\n",
       "      <th></th>\n",
       "      <th>page_id</th>\n",
       "      <th>title</th>\n",
       "      <th>has_place_category</th>\n",
       "      <th>num_in_links</th>\n",
       "      <th>num_out_links</th>\n",
       "      <th>degree</th>\n",
       "    </tr>\n",
       "  </thead>\n",
       "  <tbody>\n",
       "  </tbody>\n",
       "</table>\n",
       "</div>"
      ],
      "text/plain": [
       "Empty DataFrame\n",
       "Columns: [page_id, title, has_place_category, num_in_links, num_out_links, degree]\n",
       "Index: []"
      ]
     },
     "execution_count": 178,
     "metadata": {},
     "output_type": "execute_result"
    }
   ],
   "source": [
    "df_nodes.loc[df_nodes[\"page_id\"] == 69803556, :]"
   ]
  },
  {
   "cell_type": "code",
   "execution_count": 177,
   "id": "d7d1c884-735f-4ddd-b627-3645e404b128",
   "metadata": {},
   "outputs": [
    {
     "data": {
      "text/plain": [
       "['Christ Church Cathedral (Eau Claire)',\n",
       " 'Immanuel Lutheran College (Eau Claire)',\n",
       " 'Foster, Eau Claire County, Wisconsin',\n",
       " 'Eau Claire/Chippewa Falls',\n",
       " 'Owen Park, Eau Claire, Wisconsin',\n",
       " 'Lincoln, Eau Claire County, Wisconsin',\n",
       " 'Eau Claire Bears',\n",
       " 'Eau Claire/Chippewa Falls metropolitan area',\n",
       " 'Eau Claire River (Chippewa River tributary)',\n",
       " 'Eau Claire Wisconsin',\n",
       " 'Greater Eau Claire',\n",
       " 'Eau Claire County, WI',\n",
       " 'Eau Claire City Council',\n",
       " 'Eau Galle River',\n",
       " 'Chippewa Falls/Eau Claire',\n",
       " 'University of Wisconsin, Eau Claire',\n",
       " 'Otter Creek, Eau Claire County, Wisconsin',\n",
       " 'Eau Claire County, Wisconsin',\n",
       " 'UW-Eau Claire',\n",
       " 'Episcopal Diocese of Eau Claire',\n",
       " 'Seymour, Eau Claire County, Wisconsin',\n",
       " 'Eau Claire, Wisconsin',\n",
       " 'Eau Claire - Chippewa Falls metropolitan area',\n",
       " 'Eau Claire Masonic Temple',\n",
       " 'Eau Claire metropolitan area',\n",
       " 'Eau Claire-Menomonie, WI CSA',\n",
       " 'University of Wisconsin-Eau Claire',\n",
       " 'Wilson, Eau Claire County, Wisconsin',\n",
       " 'Memorial High School (Eau Claire, Wisconsin)',\n",
       " 'Chippewa Falls-Eau Claire metropolitan area',\n",
       " 'Eau Claire-Chippewa Falls metropolitan area',\n",
       " 'Eau Claire City Council/Temp',\n",
       " 'Eau Claire County',\n",
       " 'Christ Church Cathedral (Eau Claire, Wisconsin)',\n",
       " 'UW–Eau Claire',\n",
       " 'US Post Office and Courthouse (Eau Claire, Wisconsin)',\n",
       " 'Phoenix Park (Eau Claire, Wisconsin)',\n",
       " 'Eau Claire River (Chippewa River (Wisconsin) tributary)',\n",
       " 'Eau Claire County, Wi',\n",
       " 'Washington, Eau Claire County, Wisconsin',\n",
       " 'Eau Claire Masonic Center',\n",
       " 'Wisconsin–Eau Claire Blugolds football',\n",
       " 'Brunswick, Eau Claire County, Wisconsin',\n",
       " 'Eau Claire',\n",
       " 'Eau Claire–Chippewa Falls metropolitan area',\n",
       " 'Chippewa Falls-Eau Claire',\n",
       " 'United States Post Office and Courthouse (Eau Claire, Wisconsin)',\n",
       " 'List of unincorporated communities in Eau Claire County, Wisconsin',\n",
       " 'Oakwood Mall (Eau Claire, Wisconsin)',\n",
       " 'University of Wisconsin at Eau Claire',\n",
       " 'Eau Claire, WI MSA',\n",
       " 'Eau Claire Transit',\n",
       " 'National Register of Historic Places listings in Eau Claire County, Wisconsin',\n",
       " 'Union, Eau Claire County, Wisconsin',\n",
       " 'Carson Park (Eau Claire, Wisconsin)',\n",
       " 'Eau Claire Express',\n",
       " 'North High School (Eau Claire, Wisconsin)',\n",
       " 'Pleasant Valley, Eau Claire County, Wisconsin',\n",
       " 'Eau Claire (WI)',\n",
       " 'State Theatre (Eau Claire, Wisconsin)',\n",
       " 'Eau Claire, Calgary',\n",
       " 'University of Wisconsin - Eau Claire',\n",
       " 'Chippewa Falls/Eau Claire metropolitan area',\n",
       " 'Eau Claire County Board of Supervisors',\n",
       " 'Eau Claire-Chippewa Falls',\n",
       " 'Lutheran Church of the Good Shepherd, Eau Claire, Wisconsin',\n",
       " 'Cobblestone House (Eau Claire, Wisconsin)',\n",
       " 'Eau Claire Area School District',\n",
       " 'University of Wisconsin–Eau Claire',\n",
       " 'Owen Park (Eau Claire, Wisconsin)',\n",
       " 'Eau Claire, Wi',\n",
       " 'Eau Claire River (disambiguation)',\n",
       " 'University of Wisconsin–Eau Claire – Barron County']"
      ]
     },
     "execution_count": 177,
     "metadata": {},
     "output_type": "execute_result"
    }
   ],
   "source": [
    "df_nodes.loc[df_nodes[\"title\"].str.contains(\"Eau \"), \"title\"].tolist()"
   ]
  },
  {
   "cell_type": "code",
   "execution_count": 172,
   "id": "cc109133-252d-47e0-9921-762f7e8e91cc",
   "metadata": {},
   "outputs": [
    {
     "data": {
      "text/plain": [
       "[(60.757345511606324, 'Eau Claire, Wisconsin -- Eaux Claires -> Rock music'),\n",
       " (115.95060362173038,\n",
       "  'Episcopal Diocese of Eau Claire -> Jackson Kemper -> American Revolution'),\n",
       " (179.5331064874212,\n",
       "  'Chippewa River (Wisconsin) <- Wisconsin Central Railroad (1871–1899) -> American Revolution'),\n",
       " (222.94098564903916,\n",
       "  'Eau Claire, Wisconsin <- Nathaniel P. Tallmadge -> American Revolution'),\n",
       " (240.1341302072302,\n",
       "  'Episcopal Diocese of Eau Claire <- Canon law of the Episcopal Church in the United States -> American Revolution'),\n",
       " (268.4709688417238,\n",
       "  'Wisconsin Department of Natural Resources <- Open-fields doctrine -> American Revolution'),\n",
       " (269.19234484717543,\n",
       "  'Eau Claire, Wisconsin -> Roman Catholic Diocese of La Crosse -> American Revolution'),\n",
       " (289.2173668259406,\n",
       "  'Eau Claire County, Wisconsin <- Roman Catholic Diocese of La Crosse -> American Revolution'),\n",
       " (384.45641770458315, 'Eau Claire, Wisconsin <- Curt Boettcher -> Rock music'),\n",
       " (427.99627003669946,\n",
       "  'Eau Claire Masonic Center -> Freemasonry -> American Revolution'),\n",
       " (515.8019937120332, 'WHYS-LP -> Democracy Now! <- American Revolution'),\n",
       " (517.841944138525, 'Eau Claire, Wisconsin -> Classic rock -> Rock music'),\n",
       " (527.8942771764177,\n",
       "  'Episcopal Diocese of Eau Claire <- Ecclesiastical provinces and dioceses of the Episcopal Church -> American Revolution'),\n",
       " (539.4299835563345,\n",
       "  'Episcopal Diocese of Eau Claire -> Episcopal Church (United States) -> American Revolution'),\n",
       " (559.165112786849,\n",
       "  'University of Wisconsin–Eau Claire -> White House -> American Revolution'),\n",
       " (659.5305444154719,\n",
       "  'Eau Claire, Wisconsin -> Southern Baptist Convention -> American Revolution'),\n",
       " (684.1522207643707, 'Eau Claire, Wisconsin <- Bruce Hornsby -- Rock music'),\n",
       " (810.2906238924966,\n",
       "  'Episcopal Diocese of Eau Claire -> United States -- American Revolution'),\n",
       " (814.2897610382261,\n",
       "  'Eau Claire River (Chippewa River tributary) -> United States -- American Revolution'),\n",
       " (833.8813420699576,\n",
       "  'Eau Claire, Wisconsin <- Ecclesiastical provinces and dioceses of the Episcopal Church -> American Revolution'),\n",
       " (856.275218973498,\n",
       "  'Chippewa River (Wisconsin) -> United States -- American Revolution'),\n",
       " (858.9634172155215,\n",
       "  'Eau Claire, Wisconsin -> Contemporary hit radio -> Rock music'),\n",
       " (878.5005664992066,\n",
       "  'University of Wisconsin–Eau Claire -> Indigenous peoples of the Americas <- American Revolution'),\n",
       " (901.614491072713,\n",
       "  'Eau Claire County, Wisconsin -> United States House of Representatives <- American Revolution'),\n",
       " (908.8176385010312,\n",
       "  'University of Wisconsin–Eau Claire -> Vietnam War <- American Revolution'),\n",
       " (1200.1150907796186,\n",
       "  'Wisconsin Department of Natural Resources -> Milwaukee -> Rock music'),\n",
       " (1204.0859414531542,\n",
       "  'Eau Claire, Wisconsin -> United States Senate <- American Revolution'),\n",
       " (1208.6839273014014,\n",
       "  'Eau Claire, Wisconsin -> United States House of Representatives <- American Revolution'),\n",
       " (1229.1252340264164,\n",
       "  'Eau Claire, Wisconsin -> Minneapolis -> American Revolution'),\n",
       " (1247.1477479735906,\n",
       "  'Eau Claire–Chippewa Falls metropolitan area -> New England -> American Revolution'),\n",
       " (1402.6733489575429,\n",
       "  'Episcopal Diocese of Eau Claire -> United States <- Rock music'),\n",
       " (1406.6724861032724,\n",
       "  'Eau Claire River (Chippewa River tributary) -> United States <- Rock music'),\n",
       " (1424.3254400690496,\n",
       "  'University of Wisconsin–Eau Claire -> Jazz <- Rock music'),\n",
       " (1448.6579440385442,\n",
       "  'Chippewa River (Wisconsin) -> United States <- Rock music'),\n",
       " (1581.484041620567, 'Eau Claire, Wisconsin -> Milwaukee -> Rock music'),\n",
       " (1716.4153143253384,\n",
       "  'Eau Claire River (Chippewa River tributary) <- List of U.S. county name etymologies (E–I) -> American Revolution'),\n",
       " (1741.0541773723953, 'Eau Claire, Wisconsin -> Country music <- Rock music'),\n",
       " (1918.1211535879188,\n",
       "  'Eau Claire County, Wisconsin <- List of U.S. county name etymologies (E–I) -> American Revolution')]"
      ]
     },
     "execution_count": 172,
     "metadata": {},
     "output_type": "execute_result"
    }
   ],
   "source": [
    "sorted([\n",
    "    (w, make_readable_path(graph, p, df_nodes))\n",
    "    for w, p in paths\n",
    "], key=lambda x: x[0])"
   ]
  },
  {
   "cell_type": "code",
   "execution_count": null,
   "id": "0b9c7706-2197-48b5-9ff4-fe5b98adfba4",
   "metadata": {},
   "outputs": [],
   "source": []
  },
  {
   "cell_type": "code",
   "execution_count": 290,
   "id": "b50bd4c0-d25f-4c0c-9bf7-f98dae3c3cfd",
   "metadata": {},
   "outputs": [],
   "source": [
    "class ArticleNetwork(object):\n",
    "\n",
    "    def __str__(self):\n",
    "        return f\"FROM ({self.lat}, {self.lon})\\nTO: {self.topics}\"\n",
    "\n",
    "    def __init__(self,  latlon: Tuple[float, float], topics: List[str], **kwargs):\n",
    "        self.lat, self.lon = latlon\n",
    "        self.topics = tuple(topics)\n",
    "        self.nearby_pageids = find_nearby_pageids(\n",
    "            lon=self.lon,\n",
    "            lat=self.lat,\n",
    "        )\n",
    "        self.topic_pageids = get_topic_pageids(topics=self.topics)\n",
    "\n",
    "        assert len(self.nearby_pageids) > 0\n",
    "        assert len(self.topic_pageids) > 0\n",
    "\n",
    "    def _build_graph(self):\n",
    "        pass\n",
    "        "
   ]
  },
  {
   "cell_type": "code",
   "execution_count": 291,
   "id": "10b72cbb-efcd-4946-802d-0f3aff883449",
   "metadata": {},
   "outputs": [],
   "source": [
    "an = ArticleNetwork(latlon, topics)"
   ]
  },
  {
   "cell_type": "code",
   "execution_count": 292,
   "id": "99dbfb78-8c98-4f86-b0fb-c42fad21e810",
   "metadata": {},
   "outputs": [
    {
     "name": "stdout",
     "output_type": "stream",
     "text": [
      "FROM (42.460021, -74.64703)\n",
      "TO: ('List of cryptids', 'Rock music', 'American Revolution')\n"
     ]
    }
   ],
   "source": [
    "print(an)"
   ]
  },
  {
   "cell_type": "code",
   "execution_count": null,
   "id": "eee9a83c-4326-4021-bc88-7444cb26dfae",
   "metadata": {},
   "outputs": [],
   "source": []
  },
  {
   "cell_type": "code",
   "execution_count": null,
   "id": "3491f2f3-e254-46c6-9811-5bccca8ffbb8",
   "metadata": {},
   "outputs": [],
   "source": []
  },
  {
   "cell_type": "code",
   "execution_count": null,
   "id": "3db9650a-c3f1-4178-aa1e-8e6b7e7496c6",
   "metadata": {},
   "outputs": [],
   "source": []
  },
  {
   "cell_type": "code",
   "execution_count": null,
   "id": "5a1b067e-6d48-4e53-a8f4-8045f3d8173d",
   "metadata": {},
   "outputs": [],
   "source": []
  },
  {
   "cell_type": "code",
   "execution_count": null,
   "id": "3206613a-c1cf-4444-94b5-36c0d4354639",
   "metadata": {},
   "outputs": [],
   "source": []
  },
  {
   "cell_type": "code",
   "execution_count": null,
   "id": "3684f419-4287-4e5d-8cd3-b9b852607412",
   "metadata": {},
   "outputs": [],
   "source": []
  },
  {
   "cell_type": "code",
   "execution_count": null,
   "id": "d99d5dc5-cd26-4b92-9547-95d2366cea7a",
   "metadata": {},
   "outputs": [],
   "source": []
  }
 ],
 "metadata": {
  "kernelspec": {
   "display_name": "Python 3 (ipykernel)",
   "language": "python",
   "name": "python3"
  },
  "language_info": {
   "codemirror_mode": {
    "name": "ipython",
    "version": 3
   },
   "file_extension": ".py",
   "mimetype": "text/x-python",
   "name": "python",
   "nbconvert_exporter": "python",
   "pygments_lexer": "ipython3",
   "version": "3.11.3"
  }
 },
 "nbformat": 4,
 "nbformat_minor": 5
}
