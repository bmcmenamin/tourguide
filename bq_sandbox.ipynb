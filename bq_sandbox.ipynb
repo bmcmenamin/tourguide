{
 "cells": [
  {
   "cell_type": "code",
   "execution_count": 1,
   "id": "fdeb6584-5b38-43e9-b940-decafe679cf6",
   "metadata": {},
   "outputs": [],
   "source": [
    "%load_ext autoreload\n",
    "%autoreload 2"
   ]
  },
  {
   "cell_type": "code",
   "execution_count": 2,
   "id": "a3eb5bff-0d8d-4255-b6e0-543a1baf4964",
   "metadata": {},
   "outputs": [],
   "source": [
    "from typing import List, Tuple\n",
    "from itertools import product\n",
    "from functools import lru_cache\n",
    "\n",
    "\n",
    "from flaskapp.bigquery_interface import (\n",
    "    BigQueryInterface,\n",
    "    query_nodes,\n",
    "    query_edges,\n",
    "    query_nearby,\n",
    "    query_nearby_extended, \n",
    "    query_neighbors\n",
    ")\n",
    "\n",
    "from flaskapp.wikidata_interfaces import PageidFinder\n",
    "\n",
    "import pandas as pd\n",
    "import networkx as nx"
   ]
  },
  {
   "cell_type": "code",
   "execution_count": 3,
   "id": "e27374b0-489a-435d-b413-be34606dad37",
   "metadata": {},
   "outputs": [],
   "source": [
    "PROJECT_ID = \"tourguide-388723\"\n",
    "NUM_NEARBY_TO_KEEP = 25\n",
    "\n",
    "@lru_cache()\n",
    "def find_nearby_pageids(lon: float, lat: float, num_to_keep: int = NUM_NEARBY_TO_KEEP) -> Tuple[int, ...]:\n",
    "\n",
    "    with BigQueryInterface(project_id=PROJECT_ID) as bq:\n",
    "        df_nearby = query_nearby(bq, lat=latlon[0], lon=latlon[1], num_to_keep=num_to_keep)\n",
    "        df_nearby_extended = query_nearby_extended(bq, df_nearby[\"page_id\"].to_list())\n",
    "\n",
    "        all_nodes = set(df_nearby[\"page_id\"].tolist())\n",
    "        _extra_nodes = df_nearby_extended[\"page_id\"].tolist() if \"page_id\" in df_nearby_extended else set()\n",
    "    \n",
    "        all_nodes = list(all_nodes.union(_extra_nodes))\n",
    "        df_geo_nodes = query_nodes(bq, all_nodes)\n",
    "\n",
    "    return tuple(df_geo_nodes[\"page_id\"].tolist())\n",
    "\n",
    "@lru_cache()\n",
    "def get_topic_pageids(topics: Tuple[str]) -> Tuple[int, ...]:\n",
    "    topic_to_pageid = dict(PageidFinder().get_payload(topics))\n",
    "    return tuple(list(topic_to_pageid.values()))\n",
    "\n",
    "\n",
    "def _get_edgedir(g, id0, id1):\n",
    "    forward = id1 in g.neighbors(id0)\n",
    "    backward = id0 in g.neighbors(id1)\n",
    "\n",
    "    if forward and not backward:\n",
    "        return \"->\"\n",
    "    elif backward and not forward:\n",
    "        return \"<-\"\n",
    "    else:\n",
    "        return \"--\"\n",
    "\n",
    "\n",
    "def make_readable_path(graph, path, df_nodes):\n",
    "    names = [df_nodes.loc[df_nodes[\"page_id\"] == p, \"title\"].iloc[0] for p in path]\n",
    "    connectors = [_get_edgedir(graph, p0, p1) for p0, p1 in zip(path[:-1], path[1:])]\n",
    "    return \" \".join([f\"{n} {c}\" for n, c in zip(names[:-1], connectors)] + names[-1:]) "
   ]
  },
  {
   "cell_type": "code",
   "execution_count": 38,
   "id": "38f7acb1-65ef-40eb-942c-26039539e1b9",
   "metadata": {},
   "outputs": [],
   "source": [
    "latlon = (44.8113, -91.4985)\n",
    "#latlon = (42.460021, -74.647030)"
   ]
  },
  {
   "cell_type": "code",
   "execution_count": null,
   "id": "2c3de332-289c-4829-9033-b11f63e4246a",
   "metadata": {},
   "outputs": [],
   "source": []
  },
  {
   "cell_type": "code",
   "execution_count": 39,
   "id": "96f2928e-af93-4a03-a3b5-fa3bae98cda5",
   "metadata": {},
   "outputs": [],
   "source": [
    "genre_pageid = (\n",
    "    559484,\n",
    "    559485,\n",
    "    559486,\n",
    "    559487\n",
    ")    \n",
    "\n",
    "with BigQueryInterface(project_id=PROJECT_ID) as bq:\n",
    "    _df_genre = bq.query(f\"\"\"\n",
    "    SELECT DISTINCT g AS node\n",
    "    FROM pages.links, UNNEST(out_links) AS g\n",
    "    WHERE page_id IN {genre_pageid}\n",
    "    \"\"\")\n",
    "\n",
    "    genre_pageids = _df_genre[\"node\"].tolist()\n",
    "    df_genres = query_nodes(bq, nodes=genre_pageids)\n",
    "\n",
    "idx = (\n",
    "    (df_genres[\"page_typeroot\"] == \"Creation\")\n",
    "    | df_genres[\"page_typeroot\"].isna()\n",
    ")\n",
    "\n",
    "all_genres = df_genres.loc[idx, \"title\"].tolist()"
   ]
  },
  {
   "cell_type": "code",
   "execution_count": null,
   "id": "6a825fc2-cf91-4631-937b-34d9f755c91a",
   "metadata": {},
   "outputs": [],
   "source": []
  },
  {
   "cell_type": "code",
   "execution_count": 40,
   "id": "0a40d4dd-1764-4ac6-af77-0aef35872db8",
   "metadata": {},
   "outputs": [],
   "source": [
    "topics = [\"Psychedelic rock\", \"Rock music\", \"Jazz\"]"
   ]
  },
  {
   "cell_type": "code",
   "execution_count": 41,
   "id": "4a60862b-7c76-4ea0-bc3d-2e8b2d8c7602",
   "metadata": {},
   "outputs": [],
   "source": [
    "geo_pageids = find_nearby_pageids(\n",
    "    lon=latlon[1],\n",
    "    lat=latlon[0],\n",
    "    num_to_keep=NUM_NEARBY_TO_KEEP\n",
    ")\n",
    "topic_pageids = get_topic_pageids(tuple(topics))"
   ]
  },
  {
   "cell_type": "code",
   "execution_count": null,
   "id": "695c3c1e-c4c6-4c01-8847-a024d3ae00a1",
   "metadata": {},
   "outputs": [],
   "source": []
  },
  {
   "cell_type": "code",
   "execution_count": 42,
   "id": "3a93366c-775e-47d5-8bec-b42ee42d38ad",
   "metadata": {},
   "outputs": [],
   "source": [
    "good_types = {\n",
    "    \"Person/Musician\",\n",
    "    \"Organization/MusicalGroup\",\n",
    "    \"Creation/CreativeWork\",\n",
    "}\n",
    "\n",
    "with BigQueryInterface(project_id=PROJECT_ID) as bq:\n",
    "    df_geo_neighbors = query_nearby_extended(bq, nodes=geo_pageids)\n",
    "    df_topic_neighbors = query_neighbors(bq, nodes=topic_pageids)\n",
    "\n",
    "    _idx_good_topic = ~(df_topic_neighbors[\"page_typeroot\"].isna() | df_topic_neighbors[\"page_type\"].isin([\"Place\"]))\n",
    "    #_idx_good_topic = df_topic_neighbors[\"page_type\"].isin(good_types)\n",
    "    #_idx_good_topic = ~df_topic_neighbors[\"page_type\"].isna()\n",
    "    \n",
    "    all_node_ids = tuple(set(\n",
    "        df_geo_neighbors.loc[:, \"page_id\"].tolist() +\n",
    "        df_topic_neighbors.loc[_idx_good_topic, \"page_id\"].tolist() +\n",
    "        list(geo_pageids) +\n",
    "        list(topic_pageids)\n",
    "    ))\n",
    "\n",
    "    df_nodes = query_nodes(bq, nodes=all_node_ids)\n",
    "    df_edges = query_edges(bq, nodes=all_node_ids)"
   ]
  },
  {
   "cell_type": "code",
   "execution_count": null,
   "id": "64455f51-6ebc-4b5c-abe7-1cea9a52eb60",
   "metadata": {},
   "outputs": [],
   "source": []
  },
  {
   "cell_type": "code",
   "execution_count": 43,
   "id": "3d71b09a-f74c-4425-bfb8-6d4475314b90",
   "metadata": {},
   "outputs": [],
   "source": [
    "weightin_dict = {el[\"page_id\"]: el[\"num_in_links\"] for _, el in df_nodes.iterrows()}\n",
    "weightout_dict = {el[\"page_id\"]: el[\"num_out_links\"] for _, el in df_nodes.iterrows()}\n",
    "weighttot_dict = {el[\"page_id\"]: el[\"degree\"] for _, el in df_nodes.iterrows()}"
   ]
  },
  {
   "cell_type": "code",
   "execution_count": 44,
   "id": "0ba2cc77-d537-4a70-8b07-b591b6c0cc8a",
   "metadata": {},
   "outputs": [],
   "source": [
    "weighted_dir_edges = [\n",
    "    (\n",
    "        r[\"from_node\"],\n",
    "        r[\"to_node\"],\n",
    "        weightout_dict.get(r[\"from_node\"], 1)\n",
    "    )\n",
    "    for _, r in df_edges.iterrows()\n",
    "]\n",
    "\n",
    "weighted_undir_edges = {}\n",
    "for e0, e1, w in weighted_dir_edges:\n",
    "    k = (min(e0, e1), max(e0, e1))\n",
    "    weighted_undir_edges[k] = min(w, weighted_undir_edges.get(k, w))\n",
    "\n",
    "graph = nx.DiGraph()\n",
    "graph.add_weighted_edges_from(weighted_dir_edges, weight=\"weight\")\n",
    "graph_undir = nx.Graph()\n",
    "graph_undir.add_weighted_edges_from([(e0, e1, w) for (e0, e1), w in weighted_undir_edges.items()])"
   ]
  },
  {
   "cell_type": "code",
   "execution_count": 45,
   "id": "9f1ae3ea-1e2d-4d99-9187-d608bf4f9914",
   "metadata": {},
   "outputs": [
    {
     "data": {
      "text/plain": [
       "[(87, 'University of Wisconsin–Eau Claire -> Jazz'),\n",
       " (194, 'University of Wisconsin–Eau Claire -> Lewis Nash -- Jazz'),\n",
       " (234, 'University of Wisconsin–Eau Claire -> Benny Goodman -- Jazz'),\n",
       " (262, 'University of Wisconsin–Eau Claire -> Gary Burton -- Jazz'),\n",
       " (277,\n",
       "  'University of Wisconsin–Eau Claire -> Chris Potter (jazz saxophonist) -- Jazz'),\n",
       " (355, 'University of Wisconsin–Eau Claire -> Count Basie -- Jazz'),\n",
       " (476, 'Eau Claire, Wisconsin <- Bruce Hornsby -- Rock music'),\n",
       " (526,\n",
       "  \"St. Patrick's Church (Eau Claire, Wisconsin) -> Catholic Church <- Jazz\"),\n",
       " (601, 'University of Wisconsin–Eau Claire -> The New York Times <- Jazz'),\n",
       " (601, 'University of Wisconsin–Eau Claire -> Woody Herman <- Jazz'),\n",
       " (601, 'University of Wisconsin–Eau Claire -> Charlie Byrd <- Jazz'),\n",
       " (601, 'University of Wisconsin–Eau Claire -> Bill Evans <- Jazz'),\n",
       " (789, 'Eau Claire, Wisconsin -> Catholic Church <- Jazz'),\n",
       " (789, 'Eau Claire, Wisconsin -> World War II <- Jazz'),\n",
       " (793, 'Lake Altoona (Wisconsin) -> United States <- Rock music'),\n",
       " (808,\n",
       "  'Eau Claire River (Chippewa River tributary) -> United States <- Rock music'),\n",
       " (818, 'Episcopal Diocese of Eau Claire -> United States <- Rock music'),\n",
       " (833, 'Chippewa River (Wisconsin) -> United States <- Rock music'),\n",
       " (880,\n",
       "  'List of Carnegie libraries in Wisconsin -> United States <- Rock music'),\n",
       " (1061, 'Eau Claire, Wisconsin -> Country music <- Rock music'),\n",
       " (1063, 'Lake Altoona (Wisconsin) -> United States -> Jazz'),\n",
       " (1078,\n",
       "  'Eau Claire River (Chippewa River tributary) -> United States -> Jazz'),\n",
       " (1088, 'Episcopal Diocese of Eau Claire -> United States -> Jazz'),\n",
       " (1103, 'Chippewa River (Wisconsin) -> United States -> Jazz'),\n",
       " (1150, 'List of Carnegie libraries in Wisconsin -> United States -> Jazz')]"
      ]
     },
     "execution_count": 45,
     "metadata": {},
     "output_type": "execute_result"
    }
   ],
   "source": [
    "nonseed_nodes = set(graph.nodes) - set(geo_pageids + topic_pageids)\n",
    "paths = []\n",
    "\n",
    "for geo_id, topic_id in product(geo_pageids, topic_pageids):\n",
    "    _graph = graph_undir.subgraph(nonseed_nodes.union({geo_id, topic_id}))\n",
    "    try:\n",
    "        _paths = nx.algorithms.simple_paths.all_simple_paths(\n",
    "            _graph,\n",
    "            geo_id,\n",
    "            topic_id,\n",
    "            cutoff=2\n",
    "        )\n",
    "\n",
    "        _weighted_paths = [\n",
    "            (nx.path_weight(_graph, p, weight=\"weight\"), p)\n",
    "            for p in _paths\n",
    "        ]\n",
    "        if _weighted_paths:\n",
    "            paths += _weighted_paths\n",
    "\n",
    "    except (nx.NetworkXNoPath, nx.NodeNotFound):\n",
    "        pass\n",
    "\n",
    "sorted([\n",
    "    (w, make_readable_path(graph, p, df_nodes))\n",
    "    for w, p in paths\n",
    "], key=lambda x: x[0])"
   ]
  },
  {
   "cell_type": "code",
   "execution_count": 46,
   "id": "cdb370e3-9e2a-4f01-aee1-a0d5d9aa020f",
   "metadata": {},
   "outputs": [
    {
     "data": {
      "text/plain": [
       "[(476, [151296, 619068, 25423]),\n",
       " (1061, [151296, 5247, 25423]),\n",
       " (789, [151296, 606848, 15613]),\n",
       " (789, [151296, 32927, 15613]),\n",
       " (808, [2895089, 3434750, 25423]),\n",
       " (1078, [2895089, 3434750, 15613]),\n",
       " (277, [496729, 2029104, 15613]),\n",
       " (87, [496729, 15613]),\n",
       " (601, [496729, 30680, 15613]),\n",
       " (601, [496729, 284282, 15613]),\n",
       " (601, [496729, 1599087, 15613]),\n",
       " (601, [496729, 155974, 15613]),\n",
       " (355, [496729, 68090, 15613]),\n",
       " (194, [496729, 669656, 15613]),\n",
       " (234, [496729, 53855, 15613]),\n",
       " (262, [496729, 588791, 15613]),\n",
       " (833, [2049193, 3434750, 25423]),\n",
       " (1103, [2049193, 3434750, 15613]),\n",
       " (818, [3843690, 3434750, 25423]),\n",
       " (1088, [3843690, 3434750, 15613]),\n",
       " (793, [36492409, 3434750, 25423]),\n",
       " (1063, [36492409, 3434750, 15613]),\n",
       " (526, [34636869, 606848, 15613]),\n",
       " (880, [23332726, 3434750, 25423]),\n",
       " (1150, [23332726, 3434750, 15613])]"
      ]
     },
     "execution_count": 46,
     "metadata": {},
     "output_type": "execute_result"
    }
   ],
   "source": [
    "paths"
   ]
  },
  {
   "cell_type": "code",
   "execution_count": null,
   "id": "9ebf18ce-9f23-4272-be0a-c189cd73d672",
   "metadata": {},
   "outputs": [],
   "source": []
  },
  {
   "cell_type": "code",
   "execution_count": null,
   "id": "7bcdf70c-7a20-4c53-992d-ad6d6d40226b",
   "metadata": {},
   "outputs": [],
   "source": []
  }
 ],
 "metadata": {
  "kernelspec": {
   "display_name": "Python 3 (ipykernel)",
   "language": "python",
   "name": "python3"
  },
  "language_info": {
   "codemirror_mode": {
    "name": "ipython",
    "version": 3
   },
   "file_extension": ".py",
   "mimetype": "text/x-python",
   "name": "python",
   "nbconvert_exporter": "python",
   "pygments_lexer": "ipython3",
   "version": "3.11.3"
  }
 },
 "nbformat": 4,
 "nbformat_minor": 5
}
