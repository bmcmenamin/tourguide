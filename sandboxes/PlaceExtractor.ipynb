{
 "cells": [
  {
   "cell_type": "code",
   "execution_count": 4,
   "id": "78316ba6-950f-41d6-8f09-6d134f7157b4",
   "metadata": {},
   "outputs": [],
   "source": [
    "#!pip install openai"
   ]
  },
  {
   "cell_type": "code",
   "execution_count": 5,
   "id": "4fc445bd-7294-4249-a08b-98e0a23b48ac",
   "metadata": {},
   "outputs": [],
   "source": [
    "import json\n",
    "\n",
    "with open(\"../creds/open_ai.json\", \"rt\") as file:\n",
    "    openai_creds = json.load(file)"
   ]
  },
  {
   "cell_type": "code",
   "execution_count": 6,
   "id": "c654b010-cb1c-429d-a7a5-8bb023931bc7",
   "metadata": {},
   "outputs": [],
   "source": [
    "OPENAI_ORG = openai_creds[\"org\"]\n",
    "OPENAI_API_KEY = openai_creds[\"api_key\"]"
   ]
  },
  {
   "cell_type": "code",
   "execution_count": 7,
   "id": "98443d4f-397c-4e2d-a24a-eca4c3f5232f",
   "metadata": {},
   "outputs": [],
   "source": [
    "from openai import OpenAI\n",
    "\n",
    "client = OpenAI(organization=OPENAI_ORG, api_key=OPENAI_API_KEY)"
   ]
  },
  {
   "cell_type": "code",
   "execution_count": null,
   "id": "2e908bad-55b6-433d-b51c-86242f3288ed",
   "metadata": {},
   "outputs": [],
   "source": []
  },
  {
   "cell_type": "code",
   "execution_count": null,
   "id": "9819fdec-4431-4e06-898a-82ee807f99f4",
   "metadata": {},
   "outputs": [],
   "source": []
  },
  {
   "cell_type": "code",
   "execution_count": 8,
   "id": "949ebf4c-a253-4a9e-9a4c-fe9ad430f81e",
   "metadata": {},
   "outputs": [],
   "source": [
    "full_text = \"\"\"\n",
    "'''Parker 13-Sided Barn''' is an officially registered historic barn nestled in the hamlet of [[Jefferson, New York|Jefferson]] in [[Schoharie County, New York]]. It is located on State Route 10 between Harpersfield and Stamford.  The barn has a long and colorful history, built in 1896 and one of only two 13-sided barns listed in the National Register of Historic Places in this area of New York state.  It meets the definition of being a [[round barn]].\n",
    "\n",
    "The Parker Barn is a three-story structure, 60 feet in diameter and was built by Mr. Richtmyer Hubbell over a century ago. The roof is double hipped which is topped by a 13-sided [[cupola]]. A longtime resident of Schoharie County, Charles Hubbell has fond memories being Grandson to the builder, and born at the homestead which surrounds this property.  The homestead also consists of a late 19th-century, three-story, rectangular barn adjacent and directly connected to the 13-sided barn by a hyphen, as well as a Victorian style Farmhouse situated on 15 acres just outside the Catskill Mountain range.\n",
    "[[File:Big Red Barn Jefferson NY.jpg|thumb]][[File:Farmland Jefferson NY.jpg|thumb]][[File:Victorian Homestead Jefferson NY.jpg|thumb]]\n",
    "\n",
    "Over the decades, the site had been used as a Dairy barn housing cows, a chicken barn and finally a veal operation during its farming life. The 13 sided barn was originally constructed to house cows who supplied their milk to the two creameries located in the Village of Jefferson. \"The cows were kept in stalls on the first floor of the barn and horses pulled wagons of hay to the second story via a bridge which led to large doors on the east side. (No longer in use.) After the hay was unloaded, the horses would then be led forward around the inside of the barn and through to the same doors they entered.  This was far less dangerous than having the horses back out through doors to maneuver the steep bridge, especially during severe winters.\"{{citation needed|date=May 2017}}\n",
    "\n",
    "The Parker Barn was named such for its owner William Parker Sr. at which time the landmark registration was filed. Over 30 years ago, Mr. Parker was raising veal and had undertaken an extensive revitalizing of the barn. This sparked the interest of the National Registry to list the building.\n",
    "\n",
    "The barn is currently privately owned and is slowly being renovated again not only to honor past generations of families who have labored, but for generations of families to come.  The goal is to eventually open the barn to the public as well as opening visitors to the history that thrives in small town America.\n",
    "\n",
    "It was listed on the [[National Register of Historic Places]] in 1984.<ref name=\"nris\" />\n",
    "\"\"\""
   ]
  },
  {
   "cell_type": "code",
   "execution_count": 9,
   "id": "78b4b696-c90e-4b53-b3f3-7c2e92c0c8c8",
   "metadata": {},
   "outputs": [],
   "source": [
    "full_text = \"\"\"\n",
    "'''Carson Park''' is a historic [[park]] located in [[Eau Claire, Wisconsin]]. It is located on a {{convert|134|acre|ha|1|adj=on}} [[peninsula]] created on an [[oxbow lake|oxbow]] lake, Half Moon Lake, which was part of the former course of the [[Chippewa River (Wisconsin)|Chippewa River]]. The park contains baseball, football, and softball venues, as well as the [[Chippewa Valley Museum]].\n",
    "\n",
    "==History==\n",
    "The land that became Carson Park was donated in 1914 to the city of Eau Claire by heirs to [[lumber baron]] William Carson, and named in his honor.<ref name=\"cvm\">{{Cite web|url=http://www.cvmuseum.com/when_you_get_here/sub06a_carson_park_history.phtml|title = Carson Park &#124; Chippewa Valley Museum}}</ref> The park was opened the following year. Construction of a sports complex, including a baseball stadium, football stadium and tennis courts, began in 1935 as a [[Works Progress Administration]] (WPA) project.  The first game in the football stadium was played in 1936, and the first game in the baseball stadium was played in 1937.\n",
    "\n",
    "The baseball stadium was added to the [[National Register of Historic Places]] in 2003.<ref name=nris/>\n",
    "\n",
    "==Baseball stadium==\n",
    "{{main article|Carson Park (baseball stadium)}}\n",
    "{{Infobox venue\n",
    "| stadium_name      = Carson Park (baseball stadium)\n",
    "| image = Carson Park Exterior Eau Claire Wisconsin.jpg\n",
    "| location          = One Carson Park Drive<br>[[Eau Claire, Wisconsin]] 54701, USA\n",
    "| opened            = May 4, 1937\n",
    "| surface           = Natural grass\n",
    "| construction_cost = $60,000 [[USD]]\n",
    "| tenants           = {{Plainlist|\n",
    "* [[Eau Claire Bears]] (1937–1942)\n",
    "* [[Eau Claire Bears|Eau Claire Braves]] (1946–1962)\n",
    "* [[Eau Claire Cavaliers]] (1971–present)\n",
    "* [[Eau Claire Express]] (2005–present)\n",
    "}}\n",
    "{{Infobox NRHP\n",
    "| name                 = Carson Park Baseball Stadium\n",
    "| embed                = yes\n",
    "| nrhp_type            =\n",
    "| built                = 1936\n",
    "| architect OR builder =\n",
    "| architecture         = Late 19th and Early 20th Century American Movements\n",
    "| added                = July 25, 2003\n",
    "| area                 = {{convert|6|acre|1}}\n",
    "| refnum               = 03000698<ref name=\"nris\">{{NRISref|version=2010a}}</ref>\n",
    "}}\n",
    "| seating_capacity  = 3,800\n",
    "| dimensions        = Left field: 320 ft<br>Center field: 388 ft<br>Right field: 312 ft\n",
    "}}\n",
    "\n",
    "The Carson Park baseball stadium hosts the [[Memorial High School (Eau Claire, Wisconsin)|Memorial]] (Old Abes), [[North High School (Eau Claire, Wisconsin)|North]] (Huskies), [[Regis High School (Eau Claire, Wisconsin)|Regis]] (Ramblers) and [[Immanuel Lutheran College (Eau Claire)|Immanuel Lutheran]] (Lancers) high school teams; the [[Eau Claire Express]] of the [[Northwoods League]]; the Eau Claire Cavaliers and Eau Claire Bears amateur teams; and the Eau Claire Pizza Hut American Legion team.\n",
    "\n",
    "The stadium was formerly the home of the [[Eau Claire Bears]] minor league baseball team, a member of the [[Northern League (baseball, 1902–71)|Northern League]]. The first game was played in the stadium on May 4, 1937, in a Northern League game between the [[Eau Claire Bears]] and the [[Superior Blues]].{{citation needed|date=July 2014}}\n",
    "\n",
    "In 1954, the Bears were renamed the [[Eau Claire Braves|Braves]], after their major league affiliate, the [[Milwaukee Braves (1953–69)|Milwaukee Braves]]. Among those who played for the Bears/Braves were [[Hank Aaron]], Billy Bruton, Wes Covington, [[Joe Torre]], [[Bob Uecker]], Andy Pafko and others who later played in [[Major League Baseball]].\n",
    "\n",
    "Following the departure of the Braves in the 1960s, the Eau Claire Cavaliers amateur team began play in 1971. Under manager Harv Tomter, the team won five amateur baseball national championships.{{citation needed|date=November 2012}}\n",
    "\n",
    "A statue honoring [[Baseball Hall of Fame]] player Hank Aaron was erected in front of the stadium in 1994. A renovation project around 1997/98 added permanent seats behind home plate, benches in the lower areas of the grandstand, and a remodeled concourse and exterior.\n",
    "\n",
    "Upon the arrival of the [[Eau Claire Express]] [[Northwoods League]] franchise in 2005, the stadium underwent further renovations. A fan deck was added in the right field corner, a children's area was added along the third-base foul line near the left field corner, and an electronic message board was added to the scoreboard.  The field was re-leveled and re-sodded prior to the 2007 season.  The press box was expanded with new sections along the first- and third-base sides for the 2009 season.  An auxiliary scoreboard was built on the grandstand roof next to the press box on the third-base side for the 2010 season.\n",
    "\n",
    "The left field wall is adjacent to the sideline of the Carson Park football stadium field.  During the football season, temporary bleachers from the baseball stadium are positioned on left field with the front of the bleachers placed along the left field wall facing the football field.\n",
    "\n",
    "==Football stadium==\n",
    "{{Infobox venue \n",
    "  |stadium_name      = Carson Park (football stadium)\n",
    "  |location          = One Carson Park Drive<br>[[Eau Claire, Wisconsin]] 54701 \n",
    "  |coordinates       = {{coord|44|48|32|N|91|31|12|W|type:landmark|display=inline}} \n",
    "  |opened            = 1936 \n",
    "  |surface           = Natural grass (1936–2003), [[FieldTurf]] (2004–present)\n",
    "  |construction_cost = $60,000 \n",
    "  |tenants           = {{Plainlist|\n",
    "* [[University of Wisconsin–Eau Claire|UWEC]] Blugolds (1937–present)\n",
    "* [[Chippewa Valley Predators]] (2005–2017)\n",
    "* Eau Claire Crush (2007–2014)\n",
    "}}\n",
    "  |seating_capacity  = 6,500\n",
    "|}}\n",
    "Carson Park's football stadium is home of the [[University of Wisconsin–Eau Claire]] Blugolds, as well as the [[Memorial High School (Eau Claire, Wisconsin)|Memorial]], [[North High School (Eau Claire, Wisconsin)|North]] and [[Regis High School (Eau Claire, Wisconsin)|Regis]] football teams. It also hosted the now-defunct Chippewa Valley Predators and Eau Claire Crush of the amateur Northern Elite Football League.\n",
    "\n",
    "The UW–Eau Claire Blugold football team began play in the stadium in 1937. A tornado that moved through Eau Claire on September 12, 1982, destroyed the press box at the football stadium.  A larger, multi-level press box was constructed in the same location.  A renovation to the football stadium's grandstand and separate concession/bathroom facilities took place in the late 1990s.\n",
    "\n",
    "As more teams used the football field, the condition of the field deteriorated. Beginning in the 1990s, the city attempted several alternative natural grass fields. A solution came in 2004 with the installation of a [[FieldTurf]] artificial surface. New turf was again installed in 2015.\n",
    "\n",
    "==Additional venues==\n",
    "The park has two museums. The Paul Bunyan Logging Camp Museum, which opened in 1934, portrays the town's lumbering history and contains seven authentic logging camp buildings. The Chippewa Valley Museum, opened in 1974, serves as a regional history museum. It contains an old-fashioned ice cream parlor; the one-room Sunnyview School, dating to 1882; and the Anderson Log House, a Norwegian log house built in about 1866, which are situated next to the museum in Carson Park.<ref name=\"cvm\"/>\n",
    "\n",
    "The park also has nature trails and offers other recreational activities. Half Moon Lake is the original home of the Eau Claire Ski Sprites, a [[water skiing]] show team, and the Eau Claire Horseshoe Club.<ref>{{cite web|url=http://members.cvol.net/echc/ |title=EAU Claire Horseshoe Club |accessdate=2010-04-03 |url-status=dead |archiveurl=https://web.archive.org/web/20100531143009/http://members.cvol.net/echc/ |archivedate=2010-05-31 }}</ref>\n",
    "\n",
    "Carson Park displayed the historic locomotive [[Soo Line 2719]] from 1960 to 1996.<ref>[http://www.2719.com/pages/soo2719a.html Soo Line Pacific #2719] archived at [https://web.archive.org/web/20090302053137/http://www.2719.com/pages/soo2719a.html]</ref> From [[Memorial Day]] through [[Labor Day]], the Chippewa Valley Railroad Association operates the one-half mile, {{RailGauge|16in}} gauge<ref>[http://www.steamlocomotive.com/lists/searchdb.php?country=USA&state=WI Surviving Steam Locomotives in Wisconsin]</ref> [[Chippewa Valley Railroad]], a [[ridable miniature railway]] excursion in the park.\n",
    "{{clear}}\n",
    "\"\"\""
   ]
  },
  {
   "cell_type": "code",
   "execution_count": 10,
   "id": "74bd0286-fe6b-498a-8eaa-edc3a24724ff",
   "metadata": {},
   "outputs": [],
   "source": [
    "model_params = {\n",
    "    \"model\":  \"gpt-3.5-turbo-0125\",  # \"gpt-4\",  # \n",
    "    \"temperature\": 0.2,\n",
    "    \"n\": 1,\n",
    "    \"stream\": False,\n",
    "    \"response_format\": {\"type\": \"json_object\"}\n",
    "}\n",
    "\n",
    "job_prompt = \"\"\"\n",
    "Your job is to look at all of the pages this wikipedia article links to and list of the linked pages that best describe the geographic location.\n",
    "The output should be formatted as a JSON object like {\"locations\": [\"place1\", \"place2\", ...]}.\n",
    "\n",
    "Each \"placeX\" must be the name of a wikipedia page that is linked to from this page.\n",
    "And each list must reference a nearby geographic location, such as a neighborhood, region, town, etc.\n",
    "\"\"\".strip()\n",
    "\n",
    "\n",
    "response = client.chat.completions.create(\n",
    "    **model_params,\n",
    "    messages=[\n",
    "    {\n",
    "        \"role\": \"system\",\n",
    "        \"content\": job_prompt,\n",
    "        \"name\": \"place_finder\"\n",
    "    },\n",
    "    {\n",
    "        \"role\": \"user\",\n",
    "        \"content\": full_text,\n",
    "    }\n",
    "    ]\n",
    ")"
   ]
  },
  {
   "cell_type": "code",
   "execution_count": 11,
   "id": "ef44b1f1-154c-46f2-9ef7-55b4332001d3",
   "metadata": {},
   "outputs": [
    {
     "name": "stdout",
     "output_type": "stream",
     "text": [
      "{'locations': ['Eau Claire, Wisconsin', 'Chippewa River (Wisconsin)', 'Half Moon Lake', 'Chippewa Valley Museum', 'University of Wisconsin–Eau Claire', 'Paul Bunyan Logging Camp Museum', 'Soo Line 2719']}\n",
      "2278 tokens\n"
     ]
    }
   ],
   "source": [
    "for choice in response.choices:\n",
    "    data = json.loads(choice.message.content)\n",
    "    print(data)\n",
    "print(f\"{response.usage.total_tokens} tokens\")"
   ]
  },
  {
   "cell_type": "code",
   "execution_count": 12,
   "id": "70fd1dff-52f4-4753-946a-820af0cd1e22",
   "metadata": {},
   "outputs": [
    {
     "data": {
      "text/plain": [
       "{'locations': ['Eau Claire, Wisconsin',\n",
       "  'Chippewa River (Wisconsin)',\n",
       "  'Half Moon Lake',\n",
       "  'Chippewa Valley Museum',\n",
       "  'University of Wisconsin–Eau Claire',\n",
       "  'Paul Bunyan Logging Camp Museum',\n",
       "  'Soo Line 2719']}"
      ]
     },
     "execution_count": 12,
     "metadata": {},
     "output_type": "execute_result"
    }
   ],
   "source": [
    "data"
   ]
  },
  {
   "cell_type": "code",
   "execution_count": null,
   "id": "3b072067-4336-4fc9-8650-d0b111bed0a1",
   "metadata": {},
   "outputs": [],
   "source": []
  },
  {
   "cell_type": "code",
   "execution_count": null,
   "id": "9f3a032b-0a17-4168-aa20-7b47e10b7159",
   "metadata": {},
   "outputs": [],
   "source": []
  },
  {
   "cell_type": "code",
   "execution_count": null,
   "id": "0b8e6958-f581-4a6b-8d50-3842ba30cee5",
   "metadata": {},
   "outputs": [],
   "source": []
  }
 ],
 "metadata": {
  "kernelspec": {
   "display_name": "Python 3 (ipykernel)",
   "language": "python",
   "name": "python3"
  },
  "language_info": {
   "codemirror_mode": {
    "name": "ipython",
    "version": 3
   },
   "file_extension": ".py",
   "mimetype": "text/x-python",
   "name": "python",
   "nbconvert_exporter": "python",
   "pygments_lexer": "ipython3",
   "version": "3.11.8"
  }
 },
 "nbformat": 4,
 "nbformat_minor": 5
}
